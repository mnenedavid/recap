{
 "cells": [
  {
   "cell_type": "code",
   "execution_count": 4,
   "id": "a32fea5b-7515-48b4-b2d2-4e61385bee10",
   "metadata": {},
   "outputs": [
    {
     "name": "stdout",
     "output_type": "stream",
     "text": [
      "Names are: John\n",
      "Names are: Doe\n",
      "Names are: Mary\n",
      "Names are: Ann\n"
     ]
    }
   ],
   "source": [
    "names = [\"John\", \"Doe\", \"Mary\", \"Ann\"]\n",
    "\n",
    "for name in names:\n",
    "    print(f'Names are: {name}')"
   ]
  }
 ],
 "metadata": {
  "kernelspec": {
   "display_name": "Python (learn-env)",
   "language": "python",
   "name": "learn-env"
  },
  "language_info": {
   "codemirror_mode": {
    "name": "ipython",
    "version": 3
   },
   "file_extension": ".py",
   "mimetype": "text/x-python",
   "name": "python",
   "nbconvert_exporter": "python",
   "pygments_lexer": "ipython3",
   "version": "3.13.3"
  }
 },
 "nbformat": 4,
 "nbformat_minor": 5
}
